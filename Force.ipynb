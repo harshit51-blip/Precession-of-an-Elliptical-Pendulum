{
 "cells": [
  {
   "cell_type": "code",
   "execution_count": 1,
   "metadata": {},
   "outputs": [
    {
     "name": "stdout",
     "output_type": "stream",
     "text": [
      "Using matplotlib backend: Qt5Agg\n"
     ]
    }
   ],
   "source": [
    "import numpy as np\n",
    "import matplotlib.pyplot as plt\n",
    "from mpl_toolkits import mplot3d\n",
    "import statistics as st\n",
    "import random as r\n",
    "%matplotlib"
   ]
  },
  {
   "cell_type": "code",
   "execution_count": 2,
   "metadata": {},
   "outputs": [],
   "source": [
    "def a(g, l, phi, v, d):\n",
    "    return (g*np.sin(phi)/l) - d*v\n",
    "def a_w(g, l, phi):\n",
    "    return (g*np.sin(phi)/l)\n",
    "def p(g, phi):\n",
    "    return -phi\n",
    "def center(list1, list2):\n",
    "    x_com = st.mean(list1)\n",
    "    y_com = st.mean(list2)\n",
    "    return x_com, y_com\n",
    "def maximum(list1, list2, x_com, y_com):\n",
    "    distance = []\n",
    "    i_max = list1[0]\n",
    "    m_max = list2[0]\n",
    "    for i,m in zip(list1, list2):\n",
    "        dist = np.sqrt((i-x_com)**2 + (m-y_com)**2)\n",
    "        distance.append(dist)\n",
    "        if i_max > list1[distance.index(dist)]:\n",
    "            i_max = i\n",
    "            m_max = m \n",
    "    return i_max, m_max\n",
    "def slope_major_axis(i_max, m_max, x_com, y_com):\n",
    "    slope = (m_max-y_com)/(i_max-x_com)\n",
    "    return slope"
   ]
  },
  {
   "cell_type": "code",
   "execution_count": 3,
   "metadata": {},
   "outputs": [],
   "source": [
    "deltaT = 0.01\n",
    "tFinal = 40.0\n",
    "N = int(tFinal/deltaT)"
   ]
  },
  {
   "cell_type": "code",
   "execution_count": 4,
   "metadata": {},
   "outputs": [],
   "source": [
    "T = np.zeros(N+1, float)\n",
    "xtheta = np.zeros(N+1, float)\n",
    "Vx = np.zeros(N+1, float)\n",
    "ytheta = np.zeros(N+1, float)\n",
    "Vy = np.zeros(N+1, float)"
   ]
  },
  {
   "cell_type": "code",
   "execution_count": 5,
   "metadata": {},
   "outputs": [],
   "source": [
    "g = 9.81"
   ]
  },
  {
   "cell_type": "code",
   "execution_count": 6,
   "metadata": {},
   "outputs": [
    {
     "name": "stdout",
     "output_type": "stream",
     "text": [
      "-0.16597990427166276\n",
      "-0.006265354513372236\n"
     ]
    },
    {
     "data": {
      "text/plain": [
       "'b = 2\\na = 1\\nga = 0.1\\nphi = 0.1\\n\\nfirst_term_damp = b/a*(xtheta*np.cos(phi))\\nsecond_term_damp = -b/a*(np.sqrt(a**2*np.e**(-ga*T) - xtheta**2))\\nthird_term_damp = np.sin(phi)\\nplt.plot(first_term_damp-(second_term_damp*third_term_damp), ytheta)\\nplt.show()'"
      ]
     },
     "execution_count": 6,
     "metadata": {},
     "output_type": "execute_result"
    }
   ],
   "source": [
    "xtheta_list = []\n",
    "ytheta_list = []\n",
    "ratio_list = []\n",
    "difference_list = []\n",
    "xl_list = []\n",
    "yl_list = []\n",
    "theta = []\n",
    "precession_rate = []\n",
    "d_list = []\n",
    "for _ in range(200):\n",
    "    xl = 1.0\n",
    "    yl = 1.0\n",
    "    xtheta[0] = r.uniform(0,0.79)\n",
    "    Vx[0] = (deltaT/2.0) * a_w(g, xl, xtheta[0])\n",
    "    ytheta[0] = r.uniform(0,0.79)\n",
    "    Vy[0] = (deltaT/2.0) * a_w(g, yl, ytheta[0])\n",
    "    xtheta_list.append(xtheta[0])\n",
    "    ytheta_list.append(ytheta[0])\n",
    "    xl_list.append(xl)\n",
    "    yl_list.append(yl)\n",
    "    ratio = (ytheta[0])/xtheta[0]\n",
    "    difference = (ytheta[0]) - (xtheta[0])\n",
    "    ratio_list.append(ratio)\n",
    "    difference_list.append(difference)\n",
    "    d = r.uniform(0.1, 0.9)\n",
    "    d_list.append(d)\n",
    "    \n",
    "\n",
    "\n",
    "    for n in range(1, N+1):\n",
    "        T[n] = n * deltaT\n",
    "        xtheta[n] = xtheta[n-1] + Vx[n-1] * deltaT\n",
    "        Vx[n] = Vx[n-1] + a(g, xl, xtheta[n], Vx[n-1], d) * deltaT\n",
    "        ytheta[n] = ytheta[n-1] + Vy[n-1] * deltaT\n",
    "        Vy[n] = Vy[n-1] + a(g, yl, ytheta[n], Vy[n-1], d) * deltaT\n",
    "        #print(\"T = \", round(T[n], 3), \" X = \", round(X[n], 3), \" V = \", round(V[n], 3))\n",
    "    xtheta1 = xtheta[:400]\n",
    "    xtheta4 = xtheta[3601:4000]\n",
    "\n",
    "    ytheta1 = ytheta[:400]\n",
    "    ytheta4 = ytheta[3601:4000]\n",
    "\n",
    "\n",
    "    cent1 = center(xtheta1, ytheta1)\n",
    "    cent2 = center(xtheta4, ytheta4)\n",
    "\n",
    "    max1 = maximum(xtheta1, ytheta1, cent1[0], cent1[1])\n",
    "    max2 = maximum(xtheta4, ytheta4, cent2[0], cent2[1])\n",
    "\n",
    "    m1 = slope_major_axis(max1[0], max1[1], cent1[0], cent1[1])\n",
    "    m2 = slope_major_axis(max2[0], max2[1], cent2[0], cent2[1])\n",
    "\n",
    "\n",
    "    Theta = np.arctan((m1-m2)/(1+(m1*m2)))\n",
    "    rate = Theta/(T[2000]-T[0])\n",
    "    precession_rate.append(rate)\n",
    "    theta.append(Theta)\n",
    "\n",
    "print(xtheta[0] - ytheta[0]) \n",
    "print(rate)\n",
    "\n",
    "#first_term = 2*a*b*xtheta*ytheta*np.cos(p)\n",
    "#second_term = b**2*a**2*np.sin(p)**2\n",
    "#third_term = b**2*(xtheta)**2\n",
    "#plt.plot(T, xtheta)\n",
    "#plt.plot(T, ytheta)\n",
    "#plt.legend(['x', 'y'])\n",
    "#plt.plot(xtheta, ytheta)\n",
    "#plt.plot(xtheta, Y1, color='red')\n",
    "#plt.plot(xtheta, Y2, color='green')\n",
    "#plt.plot(first_term+second_term-third_term/a, ytheta)\n",
    "'''fig = plt.figure()\n",
    "ax = plt.axes(projection='3d')\n",
    "ax.plot3D(xtheta, ytheta, T)\n",
    "ax.set_xlabel('x')\n",
    "ax.set_ylabel('y')\n",
    "ax.set_zlabel('time')\n",
    "plt.show()'''\n",
    "\n",
    "'''b = 2\n",
    "a = 1\n",
    "ga = 0.1\n",
    "phi = 0.1\n",
    "\n",
    "first_term_damp = b/a*(xtheta*np.cos(phi))\n",
    "second_term_damp = -b/a*(np.sqrt(a**2*np.e**(-ga*T) - xtheta**2))\n",
    "third_term_damp = np.sin(phi)\n",
    "plt.plot(first_term_damp-(second_term_damp*third_term_damp), ytheta)\n",
    "plt.show()'''"
   ]
  },
  {
   "cell_type": "code",
   "execution_count": 112,
   "metadata": {},
   "outputs": [],
   "source": [
    "plt.xlabel('initial amplitude in x direction')\n",
    "plt.ylabel('precession rate')\n",
    "plt.grid()\n",
    "plt.axhline(y=0, color='black')\n",
    "plt.scatter(xtheta_list, precession_rate)\n",
    "plt.show()"
   ]
  },
  {
   "cell_type": "code",
   "execution_count": 113,
   "metadata": {},
   "outputs": [],
   "source": [
    "plt.xlabel('initial amplitude in y direction')\n",
    "plt.ylabel('precession rate')\n",
    "plt.grid()\n",
    "plt.axhline(y=0, color='black')\n",
    "plt.scatter(ytheta_list, precession_rate)\n",
    "plt.show()"
   ]
  },
  {
   "cell_type": "code",
   "execution_count": 114,
   "metadata": {},
   "outputs": [],
   "source": [
    "fig = plt.figure()\n",
    "ax = plt.axes(projection='3d')\n",
    "ax.scatter3D(xtheta_list, ytheta_list, precession_rate)\n",
    "ax.set_xlabel('initial amplitude in x direction')\n",
    "ax.set_ylabel('initial amplitude in y direction')\n",
    "ax.set_zlabel('precession rate')\n",
    "plt.show()"
   ]
  },
  {
   "cell_type": "code",
   "execution_count": 115,
   "metadata": {},
   "outputs": [],
   "source": [
    "plt.scatter(xtheta_list, theta)\n",
    "plt.xlabel('initial amplitude in x direction')\n",
    "plt.ylabel('precession')\n",
    "plt.grid()\n",
    "plt.axhline(y=0, color='black')\n",
    "plt.show()"
   ]
  },
  {
   "cell_type": "code",
   "execution_count": 116,
   "metadata": {},
   "outputs": [],
   "source": [
    "plt.scatter(ytheta_list, theta)\n",
    "plt.xlabel('initial amplitude in y direction')\n",
    "plt.ylabel('precession')\n",
    "plt.grid()\n",
    "plt.axhline(y=0, color='black')\n",
    "plt.show()"
   ]
  },
  {
   "cell_type": "code",
   "execution_count": 7,
   "metadata": {},
   "outputs": [],
   "source": [
    "plt.scatter(ratio_list, precession_rate)\n",
    "plt.xlabel('amplitude ratio')\n",
    "plt.ylabel('precession rate')\n",
    "plt.grid()\n",
    "plt.axhline(y=0, color='black')\n",
    "plt.xlim(0,15)\n",
    "plt.show()"
   ]
  },
  {
   "cell_type": "code",
   "execution_count": 8,
   "metadata": {},
   "outputs": [],
   "source": [
    "plt.scatter(difference_list, precession_rate)\n",
    "plt.xlabel('amplitude difference')\n",
    "plt.ylabel('precession rate')\n",
    "plt.grid()\n",
    "plt.axhline(y=0, color='black')\n",
    "plt.show()"
   ]
  },
  {
   "cell_type": "code",
   "execution_count": 66,
   "metadata": {},
   "outputs": [],
   "source": [
    "fig = plt.figure()\n",
    "ax = plt.axes(projection='3d')\n",
    "ax.scatter3D(d_list, difference_list, precession_rate)\n",
    "plt.show()"
   ]
  },
  {
   "cell_type": "code",
   "execution_count": 67,
   "metadata": {},
   "outputs": [],
   "source": [
    "plt.scatter(d_list, difference_list)\n",
    "plt.xlabel('damping coefficient')\n",
    "plt.ylabel('initial amplitude difference')\n",
    "plt.grid()\n",
    "plt.axhline(y=0, color='black')\n",
    "plt.show()"
   ]
  },
  {
   "cell_type": "code",
   "execution_count": 68,
   "metadata": {},
   "outputs": [],
   "source": [
    "plt.scatter(d_list, precession_rate)\n",
    "plt.xlabel('damping coefficient')\n",
    "plt.ylabel('precession rate')\n",
    "plt.grid()\n",
    "plt.axhline(y=0, color='black')\n",
    "plt.show()"
   ]
  },
  {
   "cell_type": "code",
   "execution_count": null,
   "metadata": {},
   "outputs": [],
   "source": []
  }
 ],
 "metadata": {
  "kernelspec": {
   "display_name": "Python 3",
   "language": "python",
   "name": "python3"
  },
  "language_info": {
   "codemirror_mode": {
    "name": "ipython",
    "version": 3
   },
   "file_extension": ".py",
   "mimetype": "text/x-python",
   "name": "python",
   "nbconvert_exporter": "python",
   "pygments_lexer": "ipython3",
   "version": "3.7.6"
  }
 },
 "nbformat": 4,
 "nbformat_minor": 4
}
